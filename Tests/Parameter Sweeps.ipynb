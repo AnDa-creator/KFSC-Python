{
 "cells": [
  {
   "cell_type": "code",
   "execution_count": 1,
   "id": "3a995395",
   "metadata": {
    "ExecuteTime": {
     "end_time": "2023-04-24T05:40:41.806323Z",
     "start_time": "2023-04-24T05:40:41.774315Z"
    },
    "scrolled": true
   },
   "outputs": [
    {
     "data": {
      "text/plain": [
       "'E:\\\\Semester_10\\\\IE506\\\\KFSC-Python'"
      ]
     },
     "execution_count": 1,
     "metadata": {},
     "output_type": "execute_result"
    }
   ],
   "source": [
    "import os\n",
    "path = os.path.normpath(os.getcwd() + os.sep + os.pardir)\n",
    "os.chdir(path)\n",
    "path"
   ]
  },
  {
   "cell_type": "code",
   "execution_count": 2,
   "id": "9dc0dcce",
   "metadata": {
    "ExecuteTime": {
     "end_time": "2023-04-24T05:40:50.096720Z",
     "start_time": "2023-04-24T05:40:41.932125Z"
    },
    "scrolled": false
   },
   "outputs": [
    {
     "name": "stdout",
     "output_type": "stream",
     "text": [
      "Requirement already satisfied: soyclustering in c:\\users\\anura\\anaconda3\\lib\\site-packages (0.2.0)\n",
      "Requirement already satisfied: numpy>=1.1 in c:\\users\\anura\\anaconda3\\lib\\site-packages (from soyclustering) (1.21.6)\n"
     ]
    },
    {
     "name": "stderr",
     "output_type": "stream",
     "text": [
      "WARNING: Ignoring invalid distribution -orch (c:\\users\\anura\\anaconda3\\lib\\site-packages)\n",
      "WARNING: Ignoring invalid distribution -orch (c:\\users\\anura\\anaconda3\\lib\\site-packages)\n",
      "WARNING: Ignoring invalid distribution -orch (c:\\users\\anura\\anaconda3\\lib\\site-packages)\n",
      "WARNING: Ignoring invalid distribution -orch (c:\\users\\anura\\anaconda3\\lib\\site-packages)\n",
      "WARNING: Ignoring invalid distribution -orch (c:\\users\\anura\\anaconda3\\lib\\site-packages)\n",
      "WARNING: Ignoring invalid distribution -orch (c:\\users\\anura\\anaconda3\\lib\\site-packages)\n"
     ]
    }
   ],
   "source": [
    "!pip install soyclustering"
   ]
  },
  {
   "cell_type": "code",
   "execution_count": 3,
   "id": "6886ad75",
   "metadata": {
    "ExecuteTime": {
     "end_time": "2023-04-24T05:40:53.420003Z",
     "start_time": "2023-04-24T05:40:50.099718Z"
    }
   },
   "outputs": [
    {
     "name": "stderr",
     "output_type": "stream",
     "text": [
      "C:\\Users\\anura\\anaconda3\\lib\\site-packages\\numpy\\_distributor_init.py:32: UserWarning: loaded more than 1 DLL from .libs:\n",
      "C:\\Users\\anura\\anaconda3\\lib\\site-packages\\numpy\\.libs\\libopenblas.NOIJJG62EMASZI6NYURL6JBKM4EVBGM7.gfortran-win_amd64.dll\n",
      "C:\\Users\\anura\\anaconda3\\lib\\site-packages\\numpy\\.libs\\libopenblas.XWYDX2IKJW2NMTWSFYNGFUWKQU3LYTCZ.gfortran-win_amd64.dll\n",
      "  stacklevel=1)\n"
     ]
    }
   ],
   "source": [
    "import time\n",
    "from multiprocessing import Pool\n",
    "import multiprocessing\n",
    "import numpy as np\n",
    "import pandas as pd\n",
    "import scipy.io as sio\n",
    "from sklearn.metrics.cluster import normalized_mutual_info_score\n",
    "from sklearn.metrics import accuracy_score\n",
    "from BestMap import BestMap\n",
    "from KFSC import KFSC\n",
    "from KFSC_LARGE import KFSC_LARGE\n",
    "from KFSC_minibatch import KFSC_MB\n",
    "from multi_tester import test_dataset"
   ]
  },
  {
   "cell_type": "code",
   "execution_count": 4,
   "id": "b1661a0b",
   "metadata": {
    "ExecuteTime": {
     "end_time": "2023-04-24T05:40:53.684573Z",
     "start_time": "2023-04-24T05:40:53.423006Z"
    },
    "scrolled": true
   },
   "outputs": [
    {
     "name": "stdout",
     "output_type": "stream",
     "text": [
      "CPU count:  8\n",
      "Using CPU:  8\n"
     ]
    }
   ],
   "source": [
    "# dataset = 'mnist_sc_f150.mat'\n",
    "# dataset = 'fmnist_fea_150.mat'\n",
    "dataset = 'covtype.mat'\n",
    "# dataset = 'PokerHand2.mat'\n",
    "# dataset = 'Postures_m.mat'\n",
    "# dataset = 'Epileptic.mat'\n",
    "f = sio.loadmat(dataset)\n",
    "X = f['X']\n",
    "label = np.concatenate(f['Label'])\n",
    "k = len(np.unique(label))\n",
    "cpu_count = multiprocessing.cpu_count()\n",
    "use_cpu = min(23,cpu_count) \n",
    "print(\"CPU count: \", cpu_count)\n",
    "print(\"Using CPU: \", use_cpu)"
   ]
  },
  {
   "cell_type": "code",
   "execution_count": 5,
   "id": "5549b8d1",
   "metadata": {
    "ExecuteTime": {
     "end_time": "2023-04-24T05:40:53.700574Z",
     "start_time": "2023-04-24T05:40:53.687575Z"
    }
   },
   "outputs": [],
   "source": [
    "iterations = 23\n",
    "funct_to_run = KFSC\n",
    "params = {}\n",
    "params[\"opt\"] = {\n",
    "    'solver': 2,\n",
    "    'maxiter': 300,\n",
    "    'tol': 1e-4,\n",
    "    'init_type': 'k-means-cos',\n",
    "    'nrep_kmeans': 1,\n",
    "    'classifier': 're'\n",
    "}\n",
    "# params[\"opt\"]['batch_size'] = 5*np.logspace(1, 3, iterations, dtype=int)\n",
    "# params[\"opt\"]['np'] = 4*np.ones((iterations), dtype=int)"
   ]
  },
  {
   "cell_type": "code",
   "execution_count": 6,
   "id": "889a429c",
   "metadata": {
    "ExecuteTime": {
     "end_time": "2023-04-24T05:40:53.716575Z",
     "start_time": "2023-04-24T05:40:53.702575Z"
    }
   },
   "outputs": [],
   "source": [
    "# params[\"opt\"]['batch_size']\n",
    "# params[\"opt\"]['np']"
   ]
  },
  {
   "cell_type": "code",
   "execution_count": 7,
   "id": "b6b724b9",
   "metadata": {
    "ExecuteTime": {
     "end_time": "2023-04-24T05:40:53.732576Z",
     "start_time": "2023-04-24T05:40:53.719577Z"
    },
    "scrolled": true
   },
   "outputs": [],
   "source": [
    "# [] + [X, k, label, funct_to_run, dataset]"
   ]
  },
  {
   "cell_type": "code",
   "execution_count": 8,
   "id": "5f5bf1fe",
   "metadata": {
    "ExecuteTime": {
     "end_time": "2023-04-24T05:40:53.764584Z",
     "start_time": "2023-04-24T05:40:53.735580Z"
    }
   },
   "outputs": [
    {
     "name": "stdout",
     "output_type": "stream",
     "text": [
      "[array([[2596, 2590, 2804, ..., 2386, 2384, 2383],\n",
      "       [  51,   56,  139, ...,  159,  170,  165],\n",
      "       [   3,    2,    9, ...,   17,   15,   13],\n",
      "       ...,\n",
      "       [   0,    0,    0, ...,    0,    0,    0],\n",
      "       [   0,    0,    0, ...,    0,    0,    0],\n",
      "       [   0,    0,    0, ...,    0,    0,    0]], dtype=int16), 7, array([5, 5, 2, ..., 3, 3, 3], dtype=uint8), <function KFSC at 0x0000018B59EE44C8>, 'covtype.mat']\n",
      "[array([[2596, 2590, 2804, ..., 2386, 2384, 2383],\n",
      "       [  51,   56,  139, ...,  159,  170,  165],\n",
      "       [   3,    2,    9, ...,   17,   15,   13],\n",
      "       ...,\n",
      "       [   0,    0,    0, ...,    0,    0,    0],\n",
      "       [   0,    0,    0, ...,    0,    0,    0],\n",
      "       [   0,    0,    0, ...,    0,    0,    0]], dtype=int16), 7, array([5, 5, 2, ..., 3, 3, 3], dtype=uint8), <function KFSC at 0x0000018B59EE44C8>, 'covtype.mat']\n",
      "[array([[2596, 2590, 2804, ..., 2386, 2384, 2383],\n",
      "       [  51,   56,  139, ...,  159,  170,  165],\n",
      "       [   3,    2,    9, ...,   17,   15,   13],\n",
      "       ...,\n",
      "       [   0,    0,    0, ...,    0,    0,    0],\n",
      "       [   0,    0,    0, ...,    0,    0,    0],\n",
      "       [   0,    0,    0, ...,    0,    0,    0]], dtype=int16), 7, array([5, 5, 2, ..., 3, 3, 3], dtype=uint8), <function KFSC at 0x0000018B59EE44C8>, 'covtype.mat']\n",
      "[array([[2596, 2590, 2804, ..., 2386, 2384, 2383],\n",
      "       [  51,   56,  139, ...,  159,  170,  165],\n",
      "       [   3,    2,    9, ...,   17,   15,   13],\n",
      "       ...,\n",
      "       [   0,    0,    0, ...,    0,    0,    0],\n",
      "       [   0,    0,    0, ...,    0,    0,    0],\n",
      "       [   0,    0,    0, ...,    0,    0,    0]], dtype=int16), 7, array([5, 5, 2, ..., 3, 3, 3], dtype=uint8), <function KFSC at 0x0000018B59EE44C8>, 'covtype.mat']\n",
      "[array([[2596, 2590, 2804, ..., 2386, 2384, 2383],\n",
      "       [  51,   56,  139, ...,  159,  170,  165],\n",
      "       [   3,    2,    9, ...,   17,   15,   13],\n",
      "       ...,\n",
      "       [   0,    0,    0, ...,    0,    0,    0],\n",
      "       [   0,    0,    0, ...,    0,    0,    0],\n",
      "       [   0,    0,    0, ...,    0,    0,    0]], dtype=int16), 7, array([5, 5, 2, ..., 3, 3, 3], dtype=uint8), <function KFSC at 0x0000018B59EE44C8>, 'covtype.mat']\n",
      "[array([[2596, 2590, 2804, ..., 2386, 2384, 2383],\n",
      "       [  51,   56,  139, ...,  159,  170,  165],\n",
      "       [   3,    2,    9, ...,   17,   15,   13],\n",
      "       ...,\n",
      "       [   0,    0,    0, ...,    0,    0,    0],\n",
      "       [   0,    0,    0, ...,    0,    0,    0],\n",
      "       [   0,    0,    0, ...,    0,    0,    0]], dtype=int16), 7, array([5, 5, 2, ..., 3, 3, 3], dtype=uint8), <function KFSC at 0x0000018B59EE44C8>, 'covtype.mat']\n",
      "[array([[2596, 2590, 2804, ..., 2386, 2384, 2383],\n",
      "       [  51,   56,  139, ...,  159,  170,  165],\n",
      "       [   3,    2,    9, ...,   17,   15,   13],\n",
      "       ...,\n",
      "       [   0,    0,    0, ...,    0,    0,    0],\n",
      "       [   0,    0,    0, ...,    0,    0,    0],\n",
      "       [   0,    0,    0, ...,    0,    0,    0]], dtype=int16), 7, array([5, 5, 2, ..., 3, 3, 3], dtype=uint8), <function KFSC at 0x0000018B59EE44C8>, 'covtype.mat']\n",
      "[array([[2596, 2590, 2804, ..., 2386, 2384, 2383],\n",
      "       [  51,   56,  139, ...,  159,  170,  165],\n",
      "       [   3,    2,    9, ...,   17,   15,   13],\n",
      "       ...,\n",
      "       [   0,    0,    0, ...,    0,    0,    0],\n",
      "       [   0,    0,    0, ...,    0,    0,    0],\n",
      "       [   0,    0,    0, ...,    0,    0,    0]], dtype=int16), 7, array([5, 5, 2, ..., 3, 3, 3], dtype=uint8), <function KFSC at 0x0000018B59EE44C8>, 'covtype.mat']\n",
      "[array([[2596, 2590, 2804, ..., 2386, 2384, 2383],\n",
      "       [  51,   56,  139, ...,  159,  170,  165],\n",
      "       [   3,    2,    9, ...,   17,   15,   13],\n",
      "       ...,\n",
      "       [   0,    0,    0, ...,    0,    0,    0],\n",
      "       [   0,    0,    0, ...,    0,    0,    0],\n",
      "       [   0,    0,    0, ...,    0,    0,    0]], dtype=int16), 7, array([5, 5, 2, ..., 3, 3, 3], dtype=uint8), <function KFSC at 0x0000018B59EE44C8>, 'covtype.mat']\n",
      "[array([[2596, 2590, 2804, ..., 2386, 2384, 2383],\n",
      "       [  51,   56,  139, ...,  159,  170,  165],\n",
      "       [   3,    2,    9, ...,   17,   15,   13],\n",
      "       ...,\n",
      "       [   0,    0,    0, ...,    0,    0,    0],\n",
      "       [   0,    0,    0, ...,    0,    0,    0],\n",
      "       [   0,    0,    0, ...,    0,    0,    0]], dtype=int16), 7, array([5, 5, 2, ..., 3, 3, 3], dtype=uint8), <function KFSC at 0x0000018B59EE44C8>, 'covtype.mat']\n",
      "[array([[2596, 2590, 2804, ..., 2386, 2384, 2383],\n",
      "       [  51,   56,  139, ...,  159,  170,  165],\n",
      "       [   3,    2,    9, ...,   17,   15,   13],\n",
      "       ...,\n",
      "       [   0,    0,    0, ...,    0,    0,    0],\n",
      "       [   0,    0,    0, ...,    0,    0,    0],\n",
      "       [   0,    0,    0, ...,    0,    0,    0]], dtype=int16), 7, array([5, 5, 2, ..., 3, 3, 3], dtype=uint8), <function KFSC at 0x0000018B59EE44C8>, 'covtype.mat']\n",
      "[array([[2596, 2590, 2804, ..., 2386, 2384, 2383],\n",
      "       [  51,   56,  139, ...,  159,  170,  165],\n",
      "       [   3,    2,    9, ...,   17,   15,   13],\n",
      "       ...,\n",
      "       [   0,    0,    0, ...,    0,    0,    0],\n",
      "       [   0,    0,    0, ...,    0,    0,    0],\n",
      "       [   0,    0,    0, ...,    0,    0,    0]], dtype=int16), 7, array([5, 5, 2, ..., 3, 3, 3], dtype=uint8), <function KFSC at 0x0000018B59EE44C8>, 'covtype.mat']\n",
      "[array([[2596, 2590, 2804, ..., 2386, 2384, 2383],\n",
      "       [  51,   56,  139, ...,  159,  170,  165],\n",
      "       [   3,    2,    9, ...,   17,   15,   13],\n",
      "       ...,\n",
      "       [   0,    0,    0, ...,    0,    0,    0],\n",
      "       [   0,    0,    0, ...,    0,    0,    0],\n",
      "       [   0,    0,    0, ...,    0,    0,    0]], dtype=int16), 7, array([5, 5, 2, ..., 3, 3, 3], dtype=uint8), <function KFSC at 0x0000018B59EE44C8>, 'covtype.mat']\n",
      "[array([[2596, 2590, 2804, ..., 2386, 2384, 2383],\n",
      "       [  51,   56,  139, ...,  159,  170,  165],\n",
      "       [   3,    2,    9, ...,   17,   15,   13],\n",
      "       ...,\n",
      "       [   0,    0,    0, ...,    0,    0,    0],\n",
      "       [   0,    0,    0, ...,    0,    0,    0],\n",
      "       [   0,    0,    0, ...,    0,    0,    0]], dtype=int16), 7, array([5, 5, 2, ..., 3, 3, 3], dtype=uint8), <function KFSC at 0x0000018B59EE44C8>, 'covtype.mat']\n",
      "[array([[2596, 2590, 2804, ..., 2386, 2384, 2383],\n",
      "       [  51,   56,  139, ...,  159,  170,  165],\n",
      "       [   3,    2,    9, ...,   17,   15,   13],\n",
      "       ...,\n",
      "       [   0,    0,    0, ...,    0,    0,    0],\n",
      "       [   0,    0,    0, ...,    0,    0,    0],\n",
      "       [   0,    0,    0, ...,    0,    0,    0]], dtype=int16), 7, array([5, 5, 2, ..., 3, 3, 3], dtype=uint8), <function KFSC at 0x0000018B59EE44C8>, 'covtype.mat']\n",
      "[array([[2596, 2590, 2804, ..., 2386, 2384, 2383],\n",
      "       [  51,   56,  139, ...,  159,  170,  165],\n",
      "       [   3,    2,    9, ...,   17,   15,   13],\n",
      "       ...,\n",
      "       [   0,    0,    0, ...,    0,    0,    0],\n",
      "       [   0,    0,    0, ...,    0,    0,    0],\n",
      "       [   0,    0,    0, ...,    0,    0,    0]], dtype=int16), 7, array([5, 5, 2, ..., 3, 3, 3], dtype=uint8), <function KFSC at 0x0000018B59EE44C8>, 'covtype.mat']\n",
      "[array([[2596, 2590, 2804, ..., 2386, 2384, 2383],\n",
      "       [  51,   56,  139, ...,  159,  170,  165],\n",
      "       [   3,    2,    9, ...,   17,   15,   13],\n",
      "       ...,\n",
      "       [   0,    0,    0, ...,    0,    0,    0],\n",
      "       [   0,    0,    0, ...,    0,    0,    0],\n",
      "       [   0,    0,    0, ...,    0,    0,    0]], dtype=int16), 7, array([5, 5, 2, ..., 3, 3, 3], dtype=uint8), <function KFSC at 0x0000018B59EE44C8>, 'covtype.mat']\n",
      "[array([[2596, 2590, 2804, ..., 2386, 2384, 2383],\n",
      "       [  51,   56,  139, ...,  159,  170,  165],\n",
      "       [   3,    2,    9, ...,   17,   15,   13],\n",
      "       ...,\n",
      "       [   0,    0,    0, ...,    0,    0,    0],\n",
      "       [   0,    0,    0, ...,    0,    0,    0],\n",
      "       [   0,    0,    0, ...,    0,    0,    0]], dtype=int16), 7, array([5, 5, 2, ..., 3, 3, 3], dtype=uint8), <function KFSC at 0x0000018B59EE44C8>, 'covtype.mat']\n",
      "[array([[2596, 2590, 2804, ..., 2386, 2384, 2383],\n",
      "       [  51,   56,  139, ...,  159,  170,  165],\n",
      "       [   3,    2,    9, ...,   17,   15,   13],\n",
      "       ...,\n",
      "       [   0,    0,    0, ...,    0,    0,    0],\n",
      "       [   0,    0,    0, ...,    0,    0,    0],\n",
      "       [   0,    0,    0, ...,    0,    0,    0]], dtype=int16), 7, array([5, 5, 2, ..., 3, 3, 3], dtype=uint8), <function KFSC at 0x0000018B59EE44C8>, 'covtype.mat']\n",
      "[array([[2596, 2590, 2804, ..., 2386, 2384, 2383],\n",
      "       [  51,   56,  139, ...,  159,  170,  165],\n",
      "       [   3,    2,    9, ...,   17,   15,   13],\n",
      "       ...,\n",
      "       [   0,    0,    0, ...,    0,    0,    0],\n",
      "       [   0,    0,    0, ...,    0,    0,    0],\n",
      "       [   0,    0,    0, ...,    0,    0,    0]], dtype=int16), 7, array([5, 5, 2, ..., 3, 3, 3], dtype=uint8), <function KFSC at 0x0000018B59EE44C8>, 'covtype.mat']\n",
      "[array([[2596, 2590, 2804, ..., 2386, 2384, 2383],\n",
      "       [  51,   56,  139, ...,  159,  170,  165],\n",
      "       [   3,    2,    9, ...,   17,   15,   13],\n",
      "       ...,\n",
      "       [   0,    0,    0, ...,    0,    0,    0],\n",
      "       [   0,    0,    0, ...,    0,    0,    0],\n",
      "       [   0,    0,    0, ...,    0,    0,    0]], dtype=int16), 7, array([5, 5, 2, ..., 3, 3, 3], dtype=uint8), <function KFSC at 0x0000018B59EE44C8>, 'covtype.mat']\n",
      "[array([[2596, 2590, 2804, ..., 2386, 2384, 2383],\n",
      "       [  51,   56,  139, ...,  159,  170,  165],\n",
      "       [   3,    2,    9, ...,   17,   15,   13],\n",
      "       ...,\n",
      "       [   0,    0,    0, ...,    0,    0,    0],\n",
      "       [   0,    0,    0, ...,    0,    0,    0],\n",
      "       [   0,    0,    0, ...,    0,    0,    0]], dtype=int16), 7, array([5, 5, 2, ..., 3, 3, 3], dtype=uint8), <function KFSC at 0x0000018B59EE44C8>, 'covtype.mat']\n",
      "[array([[2596, 2590, 2804, ..., 2386, 2384, 2383],\n",
      "       [  51,   56,  139, ...,  159,  170,  165],\n",
      "       [   3,    2,    9, ...,   17,   15,   13],\n",
      "       ...,\n",
      "       [   0,    0,    0, ...,    0,    0,    0],\n",
      "       [   0,    0,    0, ...,    0,    0,    0],\n",
      "       [   0,    0,    0, ...,    0,    0,    0]], dtype=int16), 7, array([5, 5, 2, ..., 3, 3, 3], dtype=uint8), <function KFSC at 0x0000018B59EE44C8>, 'covtype.mat']\n"
     ]
    },
    {
     "data": {
      "text/plain": [
       "(array([[2596, 2590, 2804, ..., 2386, 2384, 2383],\n",
       "        [  51,   56,  139, ...,  159,  170,  165],\n",
       "        [   3,    2,    9, ...,   17,   15,   13],\n",
       "        ...,\n",
       "        [   0,    0,    0, ...,    0,    0,    0],\n",
       "        [   0,    0,    0, ...,    0,    0,    0],\n",
       "        [   0,    0,    0, ...,    0,    0,    0]], dtype=int16),\n",
       " 7,\n",
       " array([5, 5, 2, ..., 3, 3, 3], dtype=uint8),\n",
       " <function KFSC.KFSC(X, k, d, lamda, options: Union[dict, NoneType] = None)>,\n",
       " 'covtype.mat',\n",
       " {'lamda': 0.4,\n",
       "  'opt': {'solver': 2,\n",
       "   'maxiter': 300,\n",
       "   'tol': 0.0001,\n",
       "   'init_type': 'k-means-cos',\n",
       "   'nrep_kmeans': 1,\n",
       "   'classifier': 're'}})"
      ]
     },
     "execution_count": 8,
     "metadata": {},
     "output_type": "execute_result"
    }
   ],
   "source": [
    "arg_list = []\n",
    "for i in range(iterations):\n",
    "    arg_list.append([])\n",
    "    arg_list[-1] += [X, k, label, funct_to_run, dataset]\n",
    "    print(arg_list[-1])\n",
    "    build_dict = {'lamda':0.4}\n",
    "#     for key in params.keys():\n",
    "#         build_dict[key] = params[key][i]\n",
    "    build_dict['opt'] = {}\n",
    "    for key in params['opt'].keys():\n",
    "        if key == 'np':         \n",
    "            build_dict['opt'][key] = params['opt'][key][i]\n",
    "        else:\n",
    "            build_dict['opt'][key] = params['opt'][key]\n",
    "            \n",
    "    arg_list[-1].append(build_dict)\n",
    "    arg_list[-1] = tuple(arg_list[-1])\n",
    "arg_list[20]"
   ]
  },
  {
   "cell_type": "code",
   "execution_count": null,
   "id": "bd4cb2b1",
   "metadata": {
    "ExecuteTime": {
     "start_time": "2023-04-24T05:40:46.157Z"
    }
   },
   "outputs": [],
   "source": [
    "with Pool(processes=use_cpu) as p:\n",
    "    df_list = p.starmap(test_dataset, arg_list)\n",
    "combined_df = pd.concat(df_list, ignore_index=True)\n",
    "path = os.getcwd()\n",
    "os.chdir(path+'//Scores')\n",
    "combined_df.to_csv(dataset.split('_')[0] + 'bulk_run_info.csv', mode='a', index=False, header=False)"
   ]
  },
  {
   "cell_type": "code",
   "execution_count": null,
   "id": "ecd84cbd",
   "metadata": {},
   "outputs": [],
   "source": [
    "combined_df"
   ]
  },
  {
   "cell_type": "code",
   "execution_count": null,
   "id": "c62547a8",
   "metadata": {},
   "outputs": [],
   "source": [
    "import matplotlib.pyplot as plt\n",
    "import matplotlib\n",
    "import matplotlib.pylab as pylab\n",
    "\n",
    "params = {'legend.fontsize': 'large',\n",
    "          'figure.figsize': (10, 7),\n",
    "         'axes.labelsize': 'x-large',\n",
    "         'axes.titlesize':'x-large',\n",
    "         'xtick.labelsize':'large',\n",
    "         'ytick.labelsize':'large',\n",
    "         'figure.titlesize':'xx-large'}\n",
    "pylab.rcParams.update(params)"
   ]
  },
  {
   "cell_type": "code",
   "execution_count": null,
   "id": "bd6e63e8",
   "metadata": {},
   "outputs": [],
   "source": [
    "# xvals = [combined_df['parameters'][i]['nsel'] for \n",
    "#          i in range(len(list(combined_df['parameters'])))]\n",
    "# xvals = [combined_df['parameters'][i]['opt']['batch_size'] for \n",
    "#          i in range(len(list(combined_df['parameters'])))]\n",
    "xvals = np.arange(combined_df.shape[0])\n",
    "plt.scatter(xvals, combined_df['acc'])\n",
    "plt.ylabel(\"Accuracy\"); plt.xlabel(\"Parameter\")\n",
    "# plt.xscale('log')\n",
    "plt.grid(which='both')\n",
    "plt.show()\n",
    "\n",
    "plt.scatter(xvals, combined_df['nmi'])\n",
    "plt.ylabel(\"Mutual Info\"); plt.xlabel(\"Parameter\")\n",
    "plt.xscale('log')\n",
    "plt.grid(which='both')\n",
    "plt.show()"
   ]
  },
  {
   "cell_type": "code",
   "execution_count": null,
   "id": "bce424bf",
   "metadata": {},
   "outputs": [],
   "source": []
  },
  {
   "cell_type": "code",
   "execution_count": null,
   "id": "abeba121",
   "metadata": {},
   "outputs": [],
   "source": []
  }
 ],
 "metadata": {
  "kernelspec": {
   "display_name": "Python 3 (ipykernel)",
   "language": "python",
   "name": "python3"
  },
  "language_info": {
   "codemirror_mode": {
    "name": "ipython",
    "version": 3
   },
   "file_extension": ".py",
   "mimetype": "text/x-python",
   "name": "python",
   "nbconvert_exporter": "python",
   "pygments_lexer": "ipython3",
   "version": "3.7.10"
  },
  "latex_envs": {
   "LaTeX_envs_menu_present": true,
   "autoclose": false,
   "autocomplete": true,
   "bibliofile": "biblio.bib",
   "cite_by": "apalike",
   "current_citInitial": 1,
   "eqLabelWithNumbers": true,
   "eqNumInitial": 1,
   "hotkeys": {
    "equation": "Ctrl-E",
    "itemize": "Ctrl-I"
   },
   "labels_anchors": false,
   "latex_user_defs": false,
   "report_style_numbering": false,
   "user_envs_cfg": false
  },
  "toc": {
   "base_numbering": 1,
   "nav_menu": {},
   "number_sections": true,
   "sideBar": true,
   "skip_h1_title": false,
   "title_cell": "Table of Contents",
   "title_sidebar": "Contents",
   "toc_cell": false,
   "toc_position": {},
   "toc_section_display": true,
   "toc_window_display": false
  }
 },
 "nbformat": 4,
 "nbformat_minor": 5
}
