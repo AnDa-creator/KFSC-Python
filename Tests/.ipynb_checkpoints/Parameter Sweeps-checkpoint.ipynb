{
 "cells": [
  {
   "cell_type": "code",
   "execution_count": 1,
   "id": "3a995395",
   "metadata": {
    "ExecuteTime": {
     "end_time": "2023-04-04T07:47:25.562346Z",
     "start_time": "2023-04-04T07:47:25.542339Z"
    },
    "scrolled": true
   },
   "outputs": [
    {
     "data": {
      "text/plain": [
       "'C:\\\\Users\\\\user\\\\Desktop\\\\Anuranan\\\\KFSC-Python'"
      ]
     },
     "execution_count": 1,
     "metadata": {},
     "output_type": "execute_result"
    }
   ],
   "source": [
    "import os\n",
    "path = os.path.normpath(os.getcwd() + os.sep + os.pardir)\n",
    "os.chdir(path)\n",
    "path"
   ]
  },
  {
   "cell_type": "code",
   "execution_count": 2,
   "id": "9dc0dcce",
   "metadata": {
    "scrolled": false
   },
   "outputs": [
    {
     "name": "stdout",
     "output_type": "stream",
     "text": [
      "Requirement already satisfied: soyclustering in c:\\users\\user\\anaconda3\\lib\\site-packages (0.2.0)\n",
      "Requirement already satisfied: numpy>=1.1 in c:\\users\\user\\anaconda3\\lib\\site-packages (from soyclustering) (1.21.5)\n"
     ]
    }
   ],
   "source": [
    "!pip install soyclustering"
   ]
  },
  {
   "cell_type": "code",
   "execution_count": 3,
   "id": "6886ad75",
   "metadata": {
    "ExecuteTime": {
     "end_time": "2023-04-04T07:47:29.290869Z",
     "start_time": "2023-04-04T07:47:25.797874Z"
    }
   },
   "outputs": [],
   "source": [
    "import time\n",
    "from multiprocessing import Pool\n",
    "import multiprocessing\n",
    "import numpy as np\n",
    "import pandas as pd\n",
    "import scipy.io as sio\n",
    "from sklearn.metrics.cluster import normalized_mutual_info_score\n",
    "from sklearn.metrics import accuracy_score\n",
    "from BestMap import BestMap\n",
    "from KFSC import KFSC\n",
    "from KFSC_LARGE import KFSC_LARGE\n",
    "from KFSC_minibatch import KFSC_MB\n",
    "from multi_tester import test_dataset"
   ]
  },
  {
   "cell_type": "code",
   "execution_count": 4,
   "id": "b1661a0b",
   "metadata": {
    "ExecuteTime": {
     "end_time": "2023-04-04T07:47:30.016513Z",
     "start_time": "2023-04-04T07:47:29.290869Z"
    },
    "scrolled": true
   },
   "outputs": [
    {
     "name": "stdout",
     "output_type": "stream",
     "text": [
      "CPU count:  48\n",
      "Using CPU:  24\n"
     ]
    }
   ],
   "source": [
    "# dataset = 'mnist_sc_f150.mat'\n",
    "dataset = 'fmnist_fea_150.mat'\n",
    "# dataset = 'covtype.mat'\n",
    "# dataset = 'PokerHand2.mat'\n",
    "# dataset = 'Postures_m.mat'\n",
    "# dataset = 'Epileptic.mat'\n",
    "f = sio.loadmat(dataset)\n",
    "X = f['X']\n",
    "label = np.concatenate(f['Label'])\n",
    "k = len(np.unique(label))\n",
    "cpu_count = multiprocessing.cpu_count()\n",
    "use_cpu = 24\n",
    "print(\"CPU count: \", cpu_count)\n",
    "print(\"Using CPU: \", use_cpu)"
   ]
  },
  {
   "cell_type": "code",
   "execution_count": null,
   "id": "5549b8d1",
   "metadata": {
    "ExecuteTime": {
     "end_time": "2023-04-04T07:47:30.036518Z",
     "start_time": "2023-04-04T07:47:30.016513Z"
    }
   },
   "outputs": [],
   "source": [
    "iterations = 48\n",
    "funct_to_run = KFSC_LARGE\n",
    "params = {}\n",
    "params[\"nsel\"] = np.logspace(1, 4, iterations, dtype=int)"
   ]
  },
  {
   "cell_type": "code",
   "execution_count": null,
   "id": "889a429c",
   "metadata": {},
   "outputs": [],
   "source": [
    "params[\"nsel\"]"
   ]
  },
  {
   "cell_type": "code",
   "execution_count": null,
   "id": "b6b724b9",
   "metadata": {
    "ExecuteTime": {
     "end_time": "2023-04-04T07:47:30.066525Z",
     "start_time": "2023-04-04T07:47:30.036518Z"
    },
    "scrolled": true
   },
   "outputs": [],
   "source": [
    "[] + [X, k, label, funct_to_run, dataset]"
   ]
  },
  {
   "cell_type": "code",
   "execution_count": null,
   "id": "5f5bf1fe",
   "metadata": {
    "ExecuteTime": {
     "end_time": "2023-04-04T07:47:30.136570Z",
     "start_time": "2023-04-04T07:47:30.066525Z"
    }
   },
   "outputs": [],
   "source": [
    "arg_list = []\n",
    "for i in range(iterations):\n",
    "    arg_list.append([])\n",
    "    arg_list[-1] += [X, k, label, funct_to_run, dataset]\n",
    "    print(arg_list[-1])\n",
    "    build_dict = {}\n",
    "    for key in params.keys():\n",
    "        build_dict[key] = params[key][i]\n",
    "    arg_list[-1].append(build_dict)\n",
    "    arg_list[-1] = tuple(arg_list[-1])\n",
    "arg_list[23]"
   ]
  },
  {
   "cell_type": "code",
   "execution_count": null,
   "id": "bd4cb2b1",
   "metadata": {
    "ExecuteTime": {
     "start_time": "2023-04-04T07:47:27.079Z"
    }
   },
   "outputs": [],
   "source": [
    "with Pool(processes=use_cpu) as p:\n",
    "    df_list = p.starmap(test_dataset, arg_list)\n",
    "combined_df = pd.concat(df_list, ignore_index=True)\n",
    "path = os.getcwd()\n",
    "os.chdir(path+'//Scores')\n",
    "combined_df.to_csv(dataset.split('_')[0] + 'nsel_vary_run_info.csv', mode='a', index=False, header=False)"
   ]
  },
  {
   "cell_type": "code",
   "execution_count": null,
   "id": "ecd84cbd",
   "metadata": {},
   "outputs": [],
   "source": [
    "combined_df"
   ]
  },
  {
   "cell_type": "code",
   "execution_count": null,
   "id": "c62547a8",
   "metadata": {},
   "outputs": [],
   "source": []
  }
 ],
 "metadata": {
  "kernelspec": {
   "display_name": "Python 3 (ipykernel)",
   "language": "python",
   "name": "python3"
  },
  "language_info": {
   "codemirror_mode": {
    "name": "ipython",
    "version": 3
   },
   "file_extension": ".py",
   "mimetype": "text/x-python",
   "name": "python",
   "nbconvert_exporter": "python",
   "pygments_lexer": "ipython3",
   "version": "3.9.12"
  },
  "toc": {
   "base_numbering": 1,
   "nav_menu": {},
   "number_sections": true,
   "sideBar": true,
   "skip_h1_title": false,
   "title_cell": "Table of Contents",
   "title_sidebar": "Contents",
   "toc_cell": false,
   "toc_position": {},
   "toc_section_display": true,
   "toc_window_display": false
  }
 },
 "nbformat": 4,
 "nbformat_minor": 5
}
