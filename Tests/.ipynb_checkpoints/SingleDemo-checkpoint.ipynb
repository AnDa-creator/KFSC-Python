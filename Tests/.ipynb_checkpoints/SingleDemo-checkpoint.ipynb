{
 "cells": [
  {
   "cell_type": "code",
   "execution_count": 1,
   "id": "96a490bb",
   "metadata": {
    "ExecuteTime": {
     "end_time": "2023-04-24T06:22:44.567072Z",
     "start_time": "2023-04-24T06:22:44.537065Z"
    }
   },
   "outputs": [
    {
     "data": {
      "text/plain": [
       "'E:\\\\Semester_10\\\\IE506\\\\KFSC-Python'"
      ]
     },
     "execution_count": 1,
     "metadata": {},
     "output_type": "execute_result"
    }
   ],
   "source": [
    "import os\n",
    "path = os.path.normpath(os.getcwd() + os.sep + os.pardir)\n",
    "os.chdir(path)\n",
    "path"
   ]
  },
  {
   "cell_type": "code",
   "execution_count": 2,
   "id": "272cf620",
   "metadata": {
    "ExecuteTime": {
     "end_time": "2023-04-24T06:22:46.648130Z",
     "start_time": "2023-04-24T06:22:44.567072Z"
    }
   },
   "outputs": [
    {
     "name": "stderr",
     "output_type": "stream",
     "text": [
      "C:\\Users\\anura\\anaconda3\\lib\\site-packages\\numpy\\_distributor_init.py:32: UserWarning: loaded more than 1 DLL from .libs:\n",
      "C:\\Users\\anura\\anaconda3\\lib\\site-packages\\numpy\\.libs\\libopenblas.NOIJJG62EMASZI6NYURL6JBKM4EVBGM7.gfortran-win_amd64.dll\n",
      "C:\\Users\\anura\\anaconda3\\lib\\site-packages\\numpy\\.libs\\libopenblas.XWYDX2IKJW2NMTWSFYNGFUWKQU3LYTCZ.gfortran-win_amd64.dll\n",
      "  stacklevel=1)\n"
     ]
    }
   ],
   "source": [
    "import time\n",
    "from multiprocessing import Pool\n",
    "import multiprocessing\n",
    "import numpy as np\n",
    "import pandas as pd\n",
    "import scipy.io as sio\n",
    "from sklearn.metrics.cluster import normalized_mutual_info_score\n",
    "from sklearn.metrics import accuracy_score\n",
    "from BestMap import BestMap\n",
    "from KFSC import KFSC\n",
    "from KFSC_LARGE import KFSC_LARGE\n",
    "from KFSC_minibatch import KFSC_MB"
   ]
  },
  {
   "cell_type": "code",
   "execution_count": 3,
   "id": "43b3ea49",
   "metadata": {
    "ExecuteTime": {
     "end_time": "2023-04-24T06:22:47.328503Z",
     "start_time": "2023-04-24T06:22:46.648130Z"
    }
   },
   "outputs": [],
   "source": [
    "dataset = 'mnist_sc_f150.mat'\n",
    "# dataset = 'fmnist_fea_150.mat'\n",
    "# dataset = 'covtype.mat'\n",
    "# dataset = 'PokerHand2.mat'\n",
    "# dataset = 'Postures_m.mat'\n",
    "# dataset = 'Epileptic.mat'\n",
    "f = sio.loadmat(dataset)\n",
    "X = f['X']\n",
    "X = np.nan_to_num(X)\n",
    "label = np.concatenate(f['Label'])\n",
    "k = len(np.unique(label))"
   ]
  },
  {
   "cell_type": "code",
   "execution_count": null,
   "id": "a748f242",
   "metadata": {
    "ExecuteTime": {
     "start_time": "2023-04-24T06:22:42.787Z"
    }
   },
   "outputs": [
    {
     "name": "stdout",
     "output_type": "stream",
     "text": [
      "Solve k-FSC by accelerated Gauss-Seidel optimization ...\n",
      "Initializing D by k-means algorithm (10 replicates)...\n"
     ]
    }
   ],
   "source": [
    "# Perform KFSC\n",
    "tic = time.time()\n",
    "opt = {\n",
    "    'solver': 2,\n",
    "    'maxiter': 300,\n",
    "    'tol': 1e-4,\n",
    "    'init_type': 'k-means-cos',\n",
    "    'nrep_kmeans': 10,\n",
    "    'classifier': 're'\n",
    "}\n",
    "lamda = 0.5\n",
    "d = 30\n",
    "L_kFSC, OUT = KFSC(X, k, d, lamda, opt, use_numba=True)\n",
    "L_kFSC = BestMap(label[:], L_kFSC[:])\n",
    "acc_kFSC = accuracy_score(label, L_kFSC)\n",
    "nmi_kFSC = normalized_mutual_info_score(label, L_kFSC)\n",
    "print('kFSC: acc = %.4f, nmi = %.4f' % (acc_kFSC, nmi_kFSC))\n",
    "toc = time.time()\n",
    "dt = toc - tic\n",
    "print(\"Time elapsed: \", dt, \" seconds\")\n",
    "run_info = pd.DataFrame({'Dataset': [dataset] ,'acc': [acc_kFSC],\n",
    "                            'nmi': [nmi_kFSC], 'time': [dt], 'Function': 'KFSC'})\n",
    "run_info.to_csv('run_info.csv', mode='a', index=False, header=False)"
   ]
  },
  {
   "cell_type": "code",
   "execution_count": null,
   "id": "9c086473",
   "metadata": {
    "ExecuteTime": {
     "start_time": "2023-04-24T06:22:43.342Z"
    }
   },
   "outputs": [],
   "source": [
    "# Perform KFSC Large\n",
    "tic = time.time()\n",
    "opt = {\n",
    "    'solver': 2,\n",
    "    'maxiter': 300,\n",
    "    'tol': 1e-4,\n",
    "    'init_type': 'k-means-cos',\n",
    "    'nrep_kmeans': 20,\n",
    "    'classifier': 're'\n",
    "}\n",
    "lamda = 0.5\n",
    "d = 30\n",
    "L_kFSC_LARGE, OUT = KFSC_LARGE(X, k, d, lamda, opt, 500, 'k-means-cos')\n",
    "L_kFSC_LARGE = BestMap(label[:], L_kFSC_LARGE[:])\n",
    "acc_kFSC_LARGE = accuracy_score(label, L_kFSC_LARGE)\n",
    "nmi_kFSC_LARGE = normalized_mutual_info_score(label, L_kFSC_LARGE)\n",
    "print('kFSC_LARGE: acc = %.4f, nmi = %.4f' % (acc_kFSC_LARGE, nmi_kFSC_LARGE))\n",
    "toc = time.time()\n",
    "dt = toc - tic\n",
    "print(\"Time elapsed: \", dt, \" seconds\")\n",
    "run_info = pd.DataFrame({'Dataset': [dataset] ,'acc': [acc_kFSC_LARGE], \n",
    "                         'nmi': [nmi_kFSC_LARGE], 'time': [dt], 'Function': 'KFSC_LARGE'})\n",
    "run_info.to_csv('run_info.csv', mode='a', index=False, header=False)"
   ]
  },
  {
   "cell_type": "code",
   "execution_count": null,
   "id": "657be801",
   "metadata": {},
   "outputs": [],
   "source": [
    "# Perform KFSC_MB\n",
    "tic = time.time()\n",
    "opt = {\n",
    "    'solver': 2,\n",
    "    'maxiter': 300,\n",
    "    'tol': 1e-4,\n",
    "    'init_type': 'k-means-cos',\n",
    "    'nrep_kmeans': 5,\n",
    "    'classifier': 're',\n",
    "    'np': 5\n",
    "}\n",
    "lamda = 0.5\n",
    "d = 30\n",
    "L_kFSC_MB, OUT = KFSC_MB(X, k, d, lamda, opt)\n",
    "L_kFSC_MB = BestMap(label[:], L_kFSC_MB[:])\n",
    "acc_kFSC_MB = accuracy_score(label, L_kFSC_MB)\n",
    "nmi_kFSC_MB = normalized_mutual_info_score(label, L_kFSC_MB)\n",
    "print('kFSC_LARGE: acc = %.4f, nmi = %.4f' % (acc_kFSC_MB, nmi_kFSC_MB))\n",
    "toc = time.time()\n",
    "dt = toc - tic\n",
    "print(\"Time elapsed: \", dt, \" seconds\")\n",
    "run_info = pd.DataFrame({'Dataset': [dataset] ,'acc': [acc_kFSC_MB], \n",
    "                         'nmi': [nmi_kFSC_MB], 'time': [dt], 'Function': 'KFSC_LARGE'})\n",
    "run_info.to_csv('run_info.csv', mode='a', index=False, header=False)"
   ]
  }
 ],
 "metadata": {
  "kernelspec": {
   "display_name": "Python 3 (ipykernel)",
   "language": "python",
   "name": "python3"
  },
  "language_info": {
   "codemirror_mode": {
    "name": "ipython",
    "version": 3
   },
   "file_extension": ".py",
   "mimetype": "text/x-python",
   "name": "python",
   "nbconvert_exporter": "python",
   "pygments_lexer": "ipython3",
   "version": "3.7.10"
  },
  "latex_envs": {
   "LaTeX_envs_menu_present": true,
   "autoclose": false,
   "autocomplete": true,
   "bibliofile": "biblio.bib",
   "cite_by": "apalike",
   "current_citInitial": 1,
   "eqLabelWithNumbers": true,
   "eqNumInitial": 1,
   "hotkeys": {
    "equation": "Ctrl-E",
    "itemize": "Ctrl-I"
   },
   "labels_anchors": false,
   "latex_user_defs": false,
   "report_style_numbering": false,
   "user_envs_cfg": false
  },
  "toc": {
   "base_numbering": 1,
   "nav_menu": {},
   "number_sections": true,
   "sideBar": true,
   "skip_h1_title": false,
   "title_cell": "Table of Contents",
   "title_sidebar": "Contents",
   "toc_cell": false,
   "toc_position": {},
   "toc_section_display": true,
   "toc_window_display": false
  }
 },
 "nbformat": 4,
 "nbformat_minor": 5
}
