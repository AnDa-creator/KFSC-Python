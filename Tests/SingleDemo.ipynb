{
 "cells": [
  {
   "cell_type": "code",
   "execution_count": 1,
   "id": "32ab8b57",
   "metadata": {
    "ExecuteTime": {
     "end_time": "2023-04-26T04:34:24.434878Z",
     "start_time": "2023-04-26T04:34:24.422881Z"
    },
    "scrolled": true
   },
   "outputs": [
    {
     "data": {
      "text/plain": [
       "'E:\\\\Semester_10\\\\IE506\\\\KFSC-Python'"
      ]
     },
     "execution_count": 1,
     "metadata": {},
     "output_type": "execute_result"
    }
   ],
   "source": [
    "import os\n",
    "path = os.path.normpath(os.getcwd() + os.sep + os.pardir)\n",
    "os.chdir(path)\n",
    "path"
   ]
  },
  {
   "cell_type": "code",
   "execution_count": 2,
   "id": "0b32fd9b",
   "metadata": {
    "ExecuteTime": {
     "end_time": "2023-04-26T04:34:28.420241Z",
     "start_time": "2023-04-26T04:34:24.988774Z"
    }
   },
   "outputs": [
    {
     "name": "stderr",
     "output_type": "stream",
     "text": [
      "C:\\Users\\anura\\anaconda3\\lib\\site-packages\\numpy\\_distributor_init.py:32: UserWarning: loaded more than 1 DLL from .libs:\n",
      "C:\\Users\\anura\\anaconda3\\lib\\site-packages\\numpy\\.libs\\libopenblas.NOIJJG62EMASZI6NYURL6JBKM4EVBGM7.gfortran-win_amd64.dll\n",
      "C:\\Users\\anura\\anaconda3\\lib\\site-packages\\numpy\\.libs\\libopenblas.XWYDX2IKJW2NMTWSFYNGFUWKQU3LYTCZ.gfortran-win_amd64.dll\n",
      "  stacklevel=1)\n"
     ]
    }
   ],
   "source": [
    "import time\n",
    "from multiprocessing import Pool\n",
    "import multiprocessing\n",
    "import numpy as np\n",
    "import pandas as pd\n",
    "import scipy.io as sio\n",
    "from sklearn.metrics.cluster import normalized_mutual_info_score\n",
    "from sklearn.metrics import accuracy_score\n",
    "from BestMap import BestMap\n",
    "from KFSC import KFSC\n",
    "from KFSC_LARGE import KFSC_LARGE\n",
    "from KFSC_minibatch import KFSC_MB"
   ]
  },
  {
   "cell_type": "code",
   "execution_count": 3,
   "id": "46bb2866",
   "metadata": {
    "ExecuteTime": {
     "end_time": "2023-04-26T04:34:28.467251Z",
     "start_time": "2023-04-26T04:34:28.423248Z"
    }
   },
   "outputs": [],
   "source": [
    "# dataset = 'mnist_sc_f150.mat'\n",
    "# dataset = 'fmnist_fea_150.mat'\n",
    "# dataset = 'covtype.mat'\n",
    "# dataset = 'PokerHand2.mat'\n",
    "# dataset = 'Postures_m.mat'\n",
    "dataset = 'Epileptic.mat'\n",
    "f = sio.loadmat(dataset)\n",
    "X = f['X']\n",
    "X = np.nan_to_num(X)\n",
    "label = np.concatenate(f['Label'])\n",
    "k = len(np.unique(label))"
   ]
  },
  {
   "cell_type": "code",
   "execution_count": 4,
   "id": "6020b6c1",
   "metadata": {
    "ExecuteTime": {
     "end_time": "2023-04-26T04:36:18.294394Z",
     "start_time": "2023-04-26T04:34:28.469254Z"
    },
    "scrolled": false
   },
   "outputs": [
    {
     "name": "stdout",
     "output_type": "stream",
     "text": [
      "Solve k-FSC by accelerated Gauss-Seidel optimization ...\n",
      "Initializing D by k-means algorithm (1 replicates)...\n",
      "iter: 1, loss: 22709.883129, dC: 0.428874, dD: 0.035744\n",
      "iter: 2, loss: 13137.726469, dC: 0.456331, dD: 0.031567\n",
      "iter: 3, loss: 7359.365973, dC: 0.742089, dD: 0.042009\n",
      "iter: 50, loss: 3689.996958, dC: 0.028736, dD: 0.017218\n",
      "iter: 100, loss: 3680.720621, dC: 0.004623, dD: 0.003383\n",
      "iter: 150, loss: 3679.094445, dC: 0.004724, dD: 0.003939\n",
      "iter: 200, loss: 3676.875074, dC: 0.001457, dD: 0.001157\n",
      "iter: 250, loss: 3676.807515, dC: 0.000485, dD: 0.000420\n",
      "iter: 300, loss: 3676.791189, dC: 0.000209, dD: 0.000187\n",
      "Max iter reached!\n",
      "Assign clusters by reconstruction error\n",
      "kFSC: acc = 0.4124, nmi = 0.1921\n",
      "Time elapsed:  109.79012560844421  seconds\n"
     ]
    }
   ],
   "source": [
    "# Perform KFSC\n",
    "tic = time.time()\n",
    "opt = {\n",
    "    'solver': 2,\n",
    "    'maxiter': 300,\n",
    "    'tol': 1e-4,\n",
    "    'init_type': 'k-means-cos',\n",
    "    'nrep_kmeans': 1,\n",
    "    'classifier': 're'\n",
    "}\n",
    "lamda = 0.5\n",
    "d = 30\n",
    "L_kFSC, OUT = KFSC(X, k, d, lamda, opt, use_numba=False)\n",
    "L_kFSC = BestMap(label[:], L_kFSC[:])\n",
    "acc_kFSC = accuracy_score(label, L_kFSC)\n",
    "nmi_kFSC = normalized_mutual_info_score(label, L_kFSC)\n",
    "print('kFSC: acc = %.4f, nmi = %.4f' % (acc_kFSC, nmi_kFSC))\n",
    "toc = time.time()\n",
    "dt = toc - tic\n",
    "print(\"Time elapsed: \", dt, \" seconds\")\n",
    "run_info = pd.DataFrame({'Dataset': [dataset] ,'acc': [acc_kFSC],\n",
    "                            'nmi': [nmi_kFSC], 'time': [dt], 'Function': 'KFSC'})\n",
    "run_info.to_csv('run_info.csv', mode='a', index=False, header=False)"
   ]
  },
  {
   "cell_type": "code",
   "execution_count": 5,
   "id": "9d355362",
   "metadata": {
    "ExecuteTime": {
     "end_time": "2023-04-26T04:38:26.526482Z",
     "start_time": "2023-04-26T04:36:18.294394Z"
    }
   },
   "outputs": [
    {
     "name": "stdout",
     "output_type": "stream",
     "text": [
      "Select landmark data points by k-means...\n",
      "Perform kFSC on the selected landmark data points...\n",
      "Solve k-FSC by accelerated Gauss-Seidel optimization ...\n",
      "Initializing D by k-means algorithm (20 replicates)...\n",
      "iter: 1, loss: 7471.383279, dC: 0.322410, dD: 0.033810\n",
      "iter: 2, loss: 5019.666717, dC: 0.337322, dD: 0.030614\n",
      "iter: 3, loss: 2718.976926, dC: 0.585894, dD: 0.033313\n",
      "iter: 50, loss: 865.410379, dC: 0.025479, dD: 0.016817\n",
      "iter: 100, loss: 859.965666, dC: 0.013852, dD: 0.008974\n",
      "iter: 150, loss: 859.481180, dC: 0.001288, dD: 0.001035\n",
      "iter: 200, loss: 859.463646, dC: 0.000534, dD: 0.000437\n",
      "iter: 250, loss: 859.459127, dC: 0.000304, dD: 0.000235\n",
      "iter: 300, loss: 859.457570, dC: 0.000199, dD: 0.000155\n",
      "Max iter reached!\n",
      "Assign clusters by reconstruction error\n",
      "Predict the labels of all data points...\n",
      "kFSC_LARGE: acc = 0.4041, nmi = 0.2057\n",
      "Time elapsed:  128.20207953453064  seconds\n"
     ]
    }
   ],
   "source": [
    "# Perform KFSC Large\n",
    "tic = time.time()\n",
    "opt = {\n",
    "    'solver': 2,\n",
    "    'maxiter': 300,\n",
    "    'tol': 1e-4,\n",
    "    'init_type': 'k-means-cos',\n",
    "    'nrep_kmeans': 20,\n",
    "    'classifier': 're'\n",
    "}\n",
    "lamda = 0.5\n",
    "d = 30\n",
    "L_kFSC_LARGE, OUT = KFSC_LARGE(X, k, d, lamda, opt, 500, 'k-means-cos',use_numba=False)\n",
    "L_kFSC_LARGE = BestMap(label[:], L_kFSC_LARGE[:])\n",
    "acc_kFSC_LARGE = accuracy_score(label, L_kFSC_LARGE)\n",
    "nmi_kFSC_LARGE = normalized_mutual_info_score(label, L_kFSC_LARGE)\n",
    "print('kFSC_LARGE: acc = %.4f, nmi = %.4f' % (acc_kFSC_LARGE, nmi_kFSC_LARGE))\n",
    "toc = time.time()\n",
    "dt = toc - tic\n",
    "print(\"Time elapsed: \", dt, \" seconds\")\n",
    "run_info = pd.DataFrame({'Dataset': [dataset] ,'acc': [acc_kFSC_LARGE], \n",
    "                         'nmi': [nmi_kFSC_LARGE], 'time': [dt], 'Function': 'KFSC_LARGE'})\n",
    "run_info.to_csv('run_info.csv', mode='a', index=False, header=False)"
   ]
  },
  {
   "cell_type": "code",
   "execution_count": 6,
   "id": "aa7ab0c3",
   "metadata": {
    "ExecuteTime": {
     "end_time": "2023-04-26T04:40:06.652532Z",
     "start_time": "2023-04-26T04:38:26.526482Z"
    }
   },
   "outputs": [
    {
     "name": "stdout",
     "output_type": "stream",
     "text": [
      "Solve k-FSC by Jacobi optimization ...\n",
      "Initialise D and C by Cosine Distance k-means ...\n",
      "pass 1, batch 10, sample 10001, dD 0.038202, dC 0.156592\n",
      "pass 2, batch 10, sample 10001, dD 0.041937, dC 0.124844\n",
      "pass 3, batch 10, sample 10001, dD 0.042756, dC 0.115030\n",
      "pass 4, batch 10, sample 10001, dD 0.046569, dC 0.082147\n",
      "pass 5, batch 10, sample 10001, dD 0.046481, dC 0.055554\n",
      "pass 6, batch 10, sample 10001, dD 0.048406, dC 0.044839\n",
      "pass 7, batch 10, sample 10001, dD 0.051885, dC 0.026585\n",
      "pass 8, batch 10, sample 10001, dD 0.052475, dC 0.017541\n",
      "pass 9, batch 10, sample 10001, dD 0.052496, dC 0.011574\n",
      "pass 10, batch 10, sample 10001, dD 0.053543, dC 0.011143\n",
      "pass 11, batch 10, sample 10001, dD 0.048820, dC 0.008170\n",
      "pass 12, batch 10, sample 10001, dD 0.051659, dC 0.008269\n",
      "pass 13, batch 10, sample 10001, dD 0.054700, dC 0.006917\n",
      "pass 14, batch 10, sample 10001, dD 0.054985, dC 0.006273\n",
      "pass 15, batch 10, sample 10001, dD 0.052686, dC 0.005613\n",
      "pass 16, batch 10, sample 10001, dD 0.054284, dC 0.005484\n",
      "pass 17, batch 10, sample 10001, dD 0.055044, dC 0.005915\n",
      "pass 18, batch 10, sample 10001, dD 0.051120, dC 0.005634\n",
      "pass 19, batch 10, sample 10001, dD 0.057364, dC 0.005254\n",
      "pass 20, batch 10, sample 10001, dD 0.056204, dC 0.005518\n",
      "kFSC_LARGE: acc = 0.3637, nmi = 0.1895\n",
      "Time elapsed:  100.10602974891663  seconds\n"
     ]
    }
   ],
   "source": [
    "# Perform KFSC_MB\n",
    "tic = time.time()\n",
    "opt = {\n",
    "    'solver': 0,\n",
    "    'maxiter': 300,\n",
    "    'tol': 1e-4,\n",
    "    'init_type': 'k-means-cos',\n",
    "    'nrep_kmeans': 5,\n",
    "    'classifier': 're',\n",
    "    'np': 20\n",
    "}\n",
    "lamda = 0.5\n",
    "d = 30\n",
    "L_kFSC_MB, OUT = KFSC_MB(X, k, d, lamda, opt, use_numba=True)\n",
    "L_kFSC_MB = BestMap(label[:], L_kFSC_MB[:])\n",
    "acc_kFSC_MB = accuracy_score(label, L_kFSC_MB)\n",
    "nmi_kFSC_MB = normalized_mutual_info_score(label, L_kFSC_MB)\n",
    "print('kFSC_LARGE: acc = %.4f, nmi = %.4f' % (acc_kFSC_MB, nmi_kFSC_MB))\n",
    "toc = time.time()\n",
    "dt = toc - tic\n",
    "print(\"Time elapsed: \", dt, \" seconds\")\n",
    "run_info = pd.DataFrame({'Dataset': [dataset] ,'acc': [acc_kFSC_MB], \n",
    "                         'nmi': [nmi_kFSC_MB], 'time': [dt], 'Function': 'KFSC_MB'})\n",
    "run_info.to_csv('run_info.csv', mode='a', index=False, header=False)"
   ]
  },
  {
   "cell_type": "code",
   "execution_count": null,
   "id": "e5299693",
   "metadata": {},
   "outputs": [],
   "source": []
  }
 ],
 "metadata": {
  "kernelspec": {
   "display_name": "Python 3 (ipykernel)",
   "language": "python",
   "name": "python3"
  },
  "language_info": {
   "codemirror_mode": {
    "name": "ipython",
    "version": 3
   },
   "file_extension": ".py",
   "mimetype": "text/x-python",
   "name": "python",
   "nbconvert_exporter": "python",
   "pygments_lexer": "ipython3",
   "version": "3.7.10"
  },
  "latex_envs": {
   "LaTeX_envs_menu_present": true,
   "autoclose": false,
   "autocomplete": true,
   "bibliofile": "biblio.bib",
   "cite_by": "apalike",
   "current_citInitial": 1,
   "eqLabelWithNumbers": true,
   "eqNumInitial": 1,
   "hotkeys": {
    "equation": "Ctrl-E",
    "itemize": "Ctrl-I"
   },
   "labels_anchors": false,
   "latex_user_defs": false,
   "report_style_numbering": false,
   "user_envs_cfg": false
  },
  "toc": {
   "base_numbering": 1,
   "nav_menu": {},
   "number_sections": true,
   "sideBar": true,
   "skip_h1_title": false,
   "title_cell": "Table of Contents",
   "title_sidebar": "Contents",
   "toc_cell": false,
   "toc_position": {},
   "toc_section_display": true,
   "toc_window_display": false
  }
 },
 "nbformat": 4,
 "nbformat_minor": 5
}
